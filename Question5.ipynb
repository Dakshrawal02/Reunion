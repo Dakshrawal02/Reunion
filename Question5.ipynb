{
 "cells": [
  {
   "cell_type": "code",
   "execution_count": null,
   "id": "55536044",
   "metadata": {},
   "outputs": [],
   "source": [
    "# Using Python"
   ]
  },
  {
   "cell_type": "code",
   "execution_count": 10,
   "id": "5a9dcea8",
   "metadata": {},
   "outputs": [
    {
     "name": "stdout",
     "output_type": "stream",
     "text": [
      "Data has been loaded and stored in the SQLite database.\n"
     ]
    }
   ],
   "source": [
    "import pandas as pd\n",
    "import sqlite3\n",
    "\n",
    "# Load the Excel data into a Pandas DataFrame\n",
    "excel_file_path = \"C:/Users/daksh/Downloads/Time Series.xlsx\"\n",
    "df = pd.read_excel(excel_file_path)\n",
    "\n",
    "# Convert 'Start' and 'End' columns to datetime\n",
    "df['Start'] = pd.to_datetime(df['Start'])\n",
    "df['End'] = pd.to_datetime(df['End'])\n",
    "\n",
    "# Establish a connection to the SQLite database\n",
    "db_file_path = \"bot_activities.db\"\n",
    "conn = sqlite3.connect(db_file_path)\n",
    "\n",
    "# Insert data from the DataFrame into the database table\n",
    "df.to_sql('bot_activities', conn, if_exists='replace', index=False)\n",
    "\n",
    "# Commit changes and close the connection\n",
    "conn.commit()\n",
    "conn.close()\n",
    "\n",
    "print(\"Data has been loaded and stored in the SQLite database.\")\n"
   ]
  },
  {
   "cell_type": "code",
   "execution_count": 17,
   "id": "a779cdf4",
   "metadata": {},
   "outputs": [
    {
     "name": "stdout",
     "output_type": "stream",
     "text": [
      "The sql extension is already loaded. To reload it, use:\n",
      "  %reload_ext sql\n"
     ]
    }
   ],
   "source": [
    "# Using SQL\n",
    "%load_ext sql\n",
    "%sql sqlite:///ecommerce.db"
   ]
  },
  {
   "cell_type": "code",
   "execution_count": 24,
   "id": "f6c1ea48",
   "metadata": {},
   "outputs": [
    {
     "name": "stdout",
     "output_type": "stream",
     "text": [
      " * sqlite:///ecommerce.db\n",
      "Done.\n"
     ]
    },
    {
     "data": {
      "text/html": [
       "<table>\n",
       "    <thead>\n",
       "        <tr>\n",
       "            <th>cid</th>\n",
       "            <th>name</th>\n",
       "            <th>type</th>\n",
       "            <th>notnull</th>\n",
       "            <th>dflt_value</th>\n",
       "            <th>pk</th>\n",
       "        </tr>\n",
       "    </thead>\n",
       "    <tbody>\n",
       "        <tr>\n",
       "            <td>0</td>\n",
       "            <td>id</td>\n",
       "            <td>INT</td>\n",
       "            <td>0</td>\n",
       "            <td>None</td>\n",
       "            <td>0</td>\n",
       "        </tr>\n",
       "        <tr>\n",
       "            <td>1</td>\n",
       "            <td>bot</td>\n",
       "            <td>TEXT</td>\n",
       "            <td>0</td>\n",
       "            <td>None</td>\n",
       "            <td>0</td>\n",
       "        </tr>\n",
       "        <tr>\n",
       "            <td>2</td>\n",
       "            <td>start</td>\n",
       "            <td>TEXT</td>\n",
       "            <td>0</td>\n",
       "            <td>None</td>\n",
       "            <td>0</td>\n",
       "        </tr>\n",
       "        <tr>\n",
       "            <td>3</td>\n",
       "            <td>end</td>\n",
       "            <td>TEXT</td>\n",
       "            <td>0</td>\n",
       "            <td>None</td>\n",
       "            <td>0</td>\n",
       "        </tr>\n",
       "        <tr>\n",
       "            <td>4</td>\n",
       "            <td>activities</td>\n",
       "            <td>TEXT</td>\n",
       "            <td>0</td>\n",
       "            <td>None</td>\n",
       "            <td>0</td>\n",
       "        </tr>\n",
       "        <tr>\n",
       "            <td>5</td>\n",
       "            <td>session_id</td>\n",
       "            <td>INTEGER</td>\n",
       "            <td>0</td>\n",
       "            <td>None</td>\n",
       "            <td>0</td>\n",
       "        </tr>\n",
       "    </tbody>\n",
       "</table>"
      ],
      "text/plain": [
       "[(0, 'id', 'INT', 0, None, 0),\n",
       " (1, 'bot', 'TEXT', 0, None, 0),\n",
       " (2, 'start', 'TEXT', 0, None, 0),\n",
       " (3, 'end', 'TEXT', 0, None, 0),\n",
       " (4, 'activities', 'TEXT', 0, None, 0),\n",
       " (5, 'session_id', 'INTEGER', 0, None, 0)]"
      ]
     },
     "execution_count": 24,
     "metadata": {},
     "output_type": "execute_result"
    }
   ],
   "source": [
    "%%sql\n",
    "PRAGMA table_info(bot_activities);"
   ]
  },
  {
   "cell_type": "code",
   "execution_count": 30,
   "id": "a716c495",
   "metadata": {},
   "outputs": [
    {
     "name": "stdout",
     "output_type": "stream",
     "text": [
      " * sqlite:///ecommerce.db\n",
      "Done.\n"
     ]
    },
    {
     "data": {
      "text/html": [
       "<table>\n",
       "    <thead>\n",
       "        <tr>\n",
       "            <th>bot</th>\n",
       "            <th>PeriodStart</th>\n",
       "            <th>PeriodEnd</th>\n",
       "            <th>AggregatedActivities</th>\n",
       "        </tr>\n",
       "    </thead>\n",
       "    <tbody>\n",
       "    </tbody>\n",
       "</table>"
      ],
      "text/plain": [
       "[]"
      ]
     },
     "execution_count": 30,
     "metadata": {},
     "output_type": "execute_result"
    }
   ],
   "source": [
    "%%sql\n",
    "WITH RankedActivities AS (\n",
    "    SELECT\n",
    "        bot,\n",
    "        start,\n",
    "        end,\n",
    "        activities,\n",
    "        ROW_NUMBER() OVER (PARTITION BY bot ORDER BY start) AS rn\n",
    "    FROM\n",
    "        bot_activities\n",
    "),\n",
    "GroupedActivities AS (\n",
    "    SELECT\n",
    "        ra1.bot,\n",
    "        ra1.start AS PeriodStart,\n",
    "        ra1.end AS PeriodEnd,\n",
    "        GROUP_CONCAT(ra1.activities, '\\n') AS AggregatedActivities\n",
    "    FROM\n",
    "        RankedActivities ra1\n",
    "    WHERE\n",
    "        NOT EXISTS (\n",
    "            SELECT 1\n",
    "            FROM RankedActivities ra2\n",
    "            WHERE ra2.bot = ra1.bot AND ra2.start = ra1.end\n",
    "        )\n",
    "    GROUP BY\n",
    "        ra1.bot, ra1.start, ra1.end\n",
    ")\n",
    "SELECT\n",
    "    bot,\n",
    "    PeriodStart,\n",
    "    PeriodEnd,\n",
    "    AggregatedActivities\n",
    "FROM\n",
    "    GroupedActivities\n",
    "ORDER BY\n",
    "    bot, PeriodStart;\n"
   ]
  }
 ],
 "metadata": {
  "kernelspec": {
   "display_name": "Python 3 (ipykernel)",
   "language": "python",
   "name": "python3"
  },
  "language_info": {
   "codemirror_mode": {
    "name": "ipython",
    "version": 3
   },
   "file_extension": ".py",
   "mimetype": "text/x-python",
   "name": "python",
   "nbconvert_exporter": "python",
   "pygments_lexer": "ipython3",
   "version": "3.10.0"
  }
 },
 "nbformat": 4,
 "nbformat_minor": 5
}
